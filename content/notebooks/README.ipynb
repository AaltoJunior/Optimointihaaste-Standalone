{
 "cells": [
  {
   "cell_type": "markdown",
   "id": "e1cff27e",
   "metadata": {},
   "source": [
    "# Opitimointihaaste\n",
    "\n",
    "Suomenkieliseen työpajaan pääset [tästä!](FI/FI_Optimointi_Automaattinen_linprog.ipynb)"
   ]
  }
 ],
 "metadata": {
  "language_info": {
   "name": "python"
  }
 },
 "nbformat": 4,
 "nbformat_minor": 5
}
