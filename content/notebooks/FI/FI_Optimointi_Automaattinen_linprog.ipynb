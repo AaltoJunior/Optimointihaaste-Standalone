{
  "metadata": {
    "kernelspec": {
      "name": "python",
      "display_name": "Python (Pyodide)",
      "language": "python"
    },
    "language_info": {
      "codemirror_mode": {
        "name": "python",
        "version": 3
      },
      "file_extension": ".py",
      "mimetype": "text/x-python",
      "name": "python",
      "nbconvert_exporter": "python",
      "pygments_lexer": "ipython3",
      "version": "3.8"
    }
  },
  "nbformat_minor": 5,
  "nbformat": 4,
  "cells": [
    {
      "id": "64d0a9a3-3540-4cc1-8a19-73ff7a29aa05",
      "cell_type": "markdown",
      "source": "# Optimointi pythonilla SciPy:n linprog-funktiolla\nOptimointia voi myös tehdä tietokoneen avulla. Tässä tapauksessa käytetään pythonia. Tätä varten tarvitset **SciPy** libraryn ja sieltä seuraavat funktiot.",
      "metadata": {}
    },
    {
      "id": "200a3eeb-05d4-436c-b0cb-20ab36a7cb2d",
      "cell_type": "code",
      "source": "import numpy as np\nfrom scipy.optimize import linprog",
      "metadata": {
        "trusted": true
      },
      "outputs": [],
      "execution_count": null
    },
    {
      "id": "3aeecb83-f99e-46c7-802c-51cde67a5c42",
      "cell_type": "markdown",
      "source": "# Funktio\nKäytämme samaa esimerkkiä kuin aikaisemmin, eli rakennamme tuoleja ja pöytiä legoilla.",
      "metadata": {}
    },
    {
      "id": "be00d7ba-0f6d-458b-85c4-2c805939f012",
      "cell_type": "code",
      "source": "print(\"\\nHei! Olen Optimointikone, ja ratkaisen optimointiongelman sinun puolestasi! Tarvitsen vain vastauksen muutamaan kysymykseen, jotta voin maksimoida kohdefunktion...\")\n\nlego_pieni_määrä = int(input(\"Kuinka paljon sinulla on pieniä legoja käytössä? \"))\nlego_iso_määrä = int(input(\"Kuinka paljon sinulla on isoja legoja käytössä? \"))\n\nlego_pieni_hinta = int(input(\"Mikä on pienen legon hinta? \"))\nlego_iso_hinta = int(input(\"Mikä on ison legon hinta? \"))\n\ntuoli_myyntihinta = int(input(\"Mikä on tuolin myyntihinta? \"))\npöytä_myyntihinta = int(input(\"Mikä on pöydän myyntihinta? \"))\n\nprint(\"\\nKiitos tiedoista! Pieni hetki, lasken nyt optimipisteen ja myyntivoiton...\")\n\n# --------------------------\n# Muuttujat (jatkuvat, ei-integerit linprogissa):\n# x = [tuolit, pöydät], alarajat 0\n# --------------------------\n\n# Kohdefunktio (maksimointi):\n# Max (tuoli_myyntihinta * tuolit + pöytä_myyntihinta * pöydät\n#      - lego_pieni_hinta * (2 * tuolit + 2 * pöydät)\n#      - lego_iso_hinta * (tuolit + 2 * pöydät))\n#\n# Kerroinmuodossa: Max (c_max · x), missä\n# c_max = [\n#   tuoli_myyntihinta - 2*lego_pieni_hinta - 1*lego_iso_hinta,\n#   pöytä_myyntihinta - 2*lego_pieni_hinta - 2*lego_iso_hinta\n# ]\nc_max = np.array([\n    tuoli_myyntihinta - 2 * lego_pieni_hinta - 1 * lego_iso_hinta,\n    pöytä_myyntihinta - 2 * lego_pieni_hinta - 2 * lego_iso_hinta\n], dtype=float)\n\n# linprog minimoi, joten minimoidaan -c_max · x\nc = -c_max\n\n# --------------------------\n# Rajoitteet\n# --------------------------\n# Pienet legot: 2*tuolit + 2*pöydät <= lego_pieni_määrä\n# Isot legot:   1*tuolit + 2*pöydät <= lego_iso_määrä\nA_ub = np.array([\n    [2.0, 2.0],\n    [1.0, 2.0],\n])\nb_ub = np.array([\n    float(lego_pieni_määrä),\n    float(lego_iso_määrä),\n])\n\n# Yhtäsuuruusrajoitteita ei ole\nA_eq = None\nb_eq = None\n\n# Raja-arvot: tuolit >= 0, pöydät >= 0\nbounds = [(0, None), (0, None)]\n\n# --------------------------\n# Ratkaistaan jatkuva LP (relaxaatio)\n# --------------------------\nres = linprog(c, A_ub=A_ub, b_ub=b_ub, A_eq=A_eq, b_eq=b_eq,\n              bounds=bounds, method='highs')\n\nif not res.success:\n    print(\"Optimointi epäonnistui:\", res.message)\nelse:\n    tuolit_opt, pöydät_opt = res.x\n    # Palauta maksimiarvo: obj = -res.fun\n    jatkuva_voitto = -res.fun\n\n    # Tulostetaan optimiratkaisu (jatkuva)\n    print(\"\\nOptimiratkaisu (jatkuva, ei-integereitä):\")\n    print(f\"Tuoleja: {tuolit_opt:.6g}\")\n    print(f\"Pöytiä:  {pöydät_opt:.6g}\")\n\n    # Lasketaan myös alun perin määritelty myyntivoitto suoraan kaavalla varmistukseksi\n    # (pitäisi vastata jatkuva_voitto)\n    total_profit_cont = (\n        tuoli_myyntihinta * tuolit_opt\n        + pöytä_myyntihinta * pöydät_opt\n        - lego_pieni_hinta * (2 * tuolit_opt + 2 * pöydät_opt)\n        - lego_iso_hinta * (tuolit_opt + 2 * pöydät_opt)\n    )\n    print(f\"\\nMyyntivoitto (jatkuva): {total_profit_cont:.2f}€\")\n\n    # Jäikö jotain yli? (jatkuva)\n    käytetyt_pienet = 2 * tuolit_opt + 2 * pöydät_opt\n    käytetyt_isot = tuolit_opt + 2 * pöydät_opt\n\n    lego_pieni_yli = lego_pieni_määrä - käytetyt_pienet\n    lego_iso_yli = lego_iso_määrä - käytetyt_isot\n\n    print(f\"{lego_pieni_yli:.6g} kpl pieniä legoja jäi yli (jatkuva).\")\n    print(f\"{lego_iso_yli:.6g} kpl isoja legoja jäi yli (jatkuva).\")\n\n    myyntihinta_cont = tuoli_myyntihinta * tuolit_opt + pöytä_myyntihinta * pöydät_opt\n    print(f\"\\nMyyntihinta (jatkuva): {myyntihinta_cont:.2f}€\")\n\n# --------------------------\n# Valinnainen: integer-optimi (brute force pienessä ongelmassa)\n# Koska alkuperäinen malli oli kokonaislukuinen, etsitään paras kokonaisratkaisu\n# käymällä läpi kaikki järkevät kombinaatiot (pieni hakutila).\n# --------------------------\nparas_voitto = -np.inf\nparas_t = None\nparas_p = None\n\n# Turvallisesti voidaan iteroida 0..lego_pieni_määrä ja 0..lego_iso_määrä\nfor t in range(0, lego_pieni_määrä + 1):\n    for p in range(0, lego_iso_määrä + 1):\n        if (2*t + 2*p) <= lego_pieni_määrä and (t + 2*p) <= lego_iso_määrä:\n            # Sama voittofunktio\n            voitto = (\n                tuoli_myyntihinta * t\n                + pöytä_myyntihinta * p\n                - lego_pieni_hinta * (2 * t + 2 * p)\n                - lego_iso_hinta * (t + 2 * p)\n            )\n            if voitto > paras_voitto:\n                paras_voitto = voitto\n                paras_t = t\n                paras_p = p\n\nprint(\"\\nOptimiratkaisu (kokonaisluvut):\")\nprint(f\"Kannattaa valmistaa {paras_t} kpl tuoleja ja {paras_p} kpl pöytiä - tämä on optimitilanne!\")\nprint(f\"Jos tottelet ohjeitani, saavutat maksimaalisen myyntivoiton: {paras_voitto:.2f}€\")\n\nkäytetyt_pienet_int = 2 * paras_t + 2 * paras_p\nkäytetyt_isot_int = paras_t + 2 * paras_p\n\nprint(f\"{lego_pieni_määrä - käytetyt_pienet_int} kpl pieniä legoja jäi yli.\")\nprint(f\"{lego_iso_määrä - käytetyt_isot_int} kpl isoja legoja jäi yli.\")",
      "metadata": {
        "trusted": true
      },
      "outputs": [],
      "execution_count": null
    }
  ]
}