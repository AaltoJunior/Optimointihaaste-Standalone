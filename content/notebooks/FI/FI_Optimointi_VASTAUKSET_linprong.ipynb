{
  "metadata": {
    "kernelspec": {
      "name": "python",
      "display_name": "Python (Pyodide)",
      "language": "python"
    },
    "language_info": {
      "codemirror_mode": {
        "name": "python",
        "version": 3
      },
      "file_extension": ".py",
      "mimetype": "text/x-python",
      "name": "python",
      "nbconvert_exporter": "python",
      "pygments_lexer": "ipython3",
      "version": "3.8"
    }
  },
  "nbformat_minor": 5,
  "nbformat": 4,
  "cells": [
    {
      "id": "36796735-8a72-449e-8fcf-7eb7da58c7b1",
      "cell_type": "markdown",
      "source": "# Optimointi pythonilla SciPy:n linprog-funktiolla",
      "metadata": {}
    },
    {
      "id": "b06be7e7-36cf-4ee1-a8e9-ef507faae4f5",
      "cell_type": "code",
      "source": "import numpy as np\nfrom scipy.optimize import linprog",
      "metadata": {
        "trusted": true
      },
      "outputs": [],
      "execution_count": null
    },
    {
      "id": "d7ca55fa-cb17-486c-bb70-7bdf49eb110c",
      "cell_type": "markdown",
      "source": "# Inputs\nKäytämme samaa esimerkkiä kuin aikaisemmin, eli **rakennamme tuoleja ja pöytiä legoilla**. Tätä varten ohjelmaan syötetään erikokoisten legojen määrät ja hinnat, sekä valmiiden huonekalujen myyntihinnat. Nämä tiedot tallennetaan **muuttujiin**.",
      "metadata": {}
    },
    {
      "id": "f76ad43c-fdb9-4390-999c-e65c2b899e32",
      "cell_type": "code",
      "source": "# Lego määrät\nlego_pieni_määrä = 8\nlego_iso_määrä = 6\n\n# Lego hinnat\nlego_pieni_hinta = 3\nlego_iso_hinta = 5\n\n# Tuotteiden hinnat\ntuoli_myyntihinta = 21\npöytä_myyntihinta = 32",
      "metadata": {
        "trusted": true
      },
      "outputs": [],
      "execution_count": null
    },
    {
      "id": "fe7bfe97-ec2e-4dac-8d59-dcccf73f8718",
      "cell_type": "markdown",
      "source": "# Määritellään funktiot\nMääritellään seuraavaksi **kohdefunktio** eli myyntivoiton funktio. Yhteen tuoliin tarvitaan 1 pieni ja 2 isoa legoa, yhteen pöytään tarvitaan 2 pientä ja 2 isoa legoa. x_1 on pienten ja x_2 isojen käytettävissä olevien legojen määrä\n\nHalutaan maksimoida myyntivoitto, eli lisätään ohjelmaan seuraava funktio:\n     \n$${tuoli\\:myynti\\:hinta*tuolit+pöytä\\:myynti\\:hinta*pöydät-lego\\:pieni\\:hinta*(x_1)-lego\\:iso\\:hinta*(x_2)}$$\n\nmissä\n   \n$$x_1 = {2*tuolit+2*pöydät}$$\n$$x_2 = {1*tuolit+2*pöydät}$$\n\n(tuoli_myyntihinta * tuolit + pöytä_myyntihinta * pöydät - lego_pieni_hinta * (2 * tuolit + 2 * pöydät) - lego_iso_hinta * (tuolit + 2 * pöydät))",
      "metadata": {}
    },
    {
      "id": "c7056ef8-e0f4-467c-b7a3-2f5ee8b6b4a9",
      "cell_type": "code",
      "source": "# Kohdefunktio (maksimointi):\n# Max (tuoli_myyntihinta * tuolit + pöytä_myyntihinta * pöydät\n#      - lego_pieni_hinta * (2 * tuolit + 2 * pöydät)\n#      - lego_iso_hinta * (tuolit + 2 * pöydät))\n#\n# Kerroinmuodossa: Max (c_max · x), missä\n# c_max = [\n#   tuoli_myyntihinta - 2*lego_pieni_hinta - 1*lego_iso_hinta,\n#   pöytä_myyntihinta - 2*lego_pieni_hinta - 2*lego_iso_hinta\n# ]\n\nc_max = np.array([\n    tuoli_myyntihinta - 2 * lego_pieni_hinta - 1 * lego_iso_hinta,\n    pöytä_myyntihinta - 2 * lego_pieni_hinta - 2 * lego_iso_hinta\n], dtype=float)\n\n# linprog minimoi, joten minimoidaan -c_max · x\nc = -c_max",
      "metadata": {
        "trusted": true
      },
      "outputs": [],
      "execution_count": null
    },
    {
      "id": "ba23c093-d895-46b9-9d41-915a0126353a",
      "cell_type": "markdown",
      "source": "# Rajoitteet\nTuolien ja pöytien rakentamiseen liittyi myös tiettyjä rajoitteita, jotka pitää ottaa huomioon: palikoita on saatavilla vain 8 pientä palaa ja 6 isoa.\n\n$${2*tuolit+2*pöydät} \\le lego\\:pieni\\:määrä$$\n$${1*tuolit+2*pöydät} \\le lego\\:iso\\:määrä$$",
      "metadata": {}
    },
    {
      "id": "6c2d36a9-2523-44f9-a3c2-162665769e35",
      "cell_type": "code",
      "source": "# Pienet legot: 2*tuolit + 2*pöydät <= lego_pieni_määrä\n# Isot legot:   1*tuolit + 2*pöydät <= lego_iso_määrä\nA_ub = np.array([\n    [2.0, 2.0],  # pieni rajoite\n    [1.0, 2.0],  # iso rajoite\n])\nb_ub = np.array([\n    float(lego_pieni_määrä),\n    float(lego_iso_määrä),\n])\n\n# Yhtäsuuruusrajoitteita ei ole\nA_eq = None\nb_eq = None\n\n# Raja-arvot: tuolit >= 0, pöydät >= 0\nbounds = [(0, None), (0, None)]",
      "metadata": {
        "trusted": true
      },
      "outputs": [],
      "execution_count": null
    },
    {
      "id": "1379acc4-f010-4bbc-8879-b7d9cce9973f",
      "cell_type": "markdown",
      "source": "# Lasketaan lopputulos\nTulostetaan lopputulos, eli optimaalinen määrä tuoleja ja pöytiä. Sen lisäksi voidaan myös tulostaa näiden tuottama myyntivoitto.",
      "metadata": {}
    },
    {
      "id": "fad5be4b-213e-411d-a6f8-5118094bd039",
      "cell_type": "code",
      "source": "# --------------------------\n# Ratkaistaan jatkuva LP (relaxaatio)\n# --------------------------\nres = linprog(c, A_ub=A_ub, b_ub=b_ub, A_eq=A_eq, b_eq=b_eq,\n              bounds=bounds, method='highs')",
      "metadata": {
        "trusted": true
      },
      "outputs": [],
      "execution_count": null
    },
    {
      "id": "6f45dba9-7de0-4cab-8083-230f9f0a13e8",
      "cell_type": "markdown",
      "source": "# Tulostetaan optimiratkaisu\n",
      "metadata": {}
    },
    {
      "id": "6264c9df-28ec-4fcd-9a3d-f417d7d3837a",
      "cell_type": "code",
      "source": "if not res.success:\n    print(\"Optimointi epäonnistui:\", res.message)\nelse:\n    tuolit_opt, pöydät_opt = res.x\n    # Palauta maksimiarvo: obj = -res.fun\n    jatkuva_voitto = -res.fun\n\n    # Tulostetaan optimiratkaisu (jatkuva)\n    print(\"Optimiratkaisu (jatkuva, ei-integereitä):\")\n    print(f\"Tuoleja: {tuolit_opt:.6g}\")\n    print(f\"Pöytiä:  {pöydät_opt:.6g}\")\n\n    # Lasketaan myös alun perin määritelty myyntivoitto suoraan kaavalla varmistukseksi\n    # (pitäisi vastata jatkuva_voitto)\n    total_profit_cont = (\n        tuoli_myyntihinta * tuolit_opt\n        + pöytä_myyntihinta * pöydät_opt\n        - lego_pieni_hinta * (2 * tuolit_opt + 2 * pöydät_opt)\n        - lego_iso_hinta * (tuolit_opt + 2 * pöydät_opt)\n    )\n    print(f\"\\nMyyntivoitto (jatkuva): {total_profit_cont:.2f} €\")\n\n    # Jäikö jotain yli? (jatkuva)\n    käytetyt_pienet = 2 * tuolit_opt + 2 * pöydät_opt\n    käytetyt_isot = tuolit_opt + 2 * pöydät_opt\n\n    lego_pieni_yli = lego_pieni_määrä - käytetyt_pienet\n    lego_iso_yli = lego_iso_määrä - käytetyt_isot\n\n    print(f\"{lego_pieni_yli:.6g} kpl pieniä legoja jäi yli (jatkuva).\")\n    print(f\"{lego_iso_yli:.6g} kpl isoja legoja jäi yli (jatkuva).\")\n\n    myyntihinta_cont = tuoli_myyntihinta * tuolit_opt + pöytä_myyntihinta * pöydät_opt\n    print(f\"\\nMyyntihinta (jatkuva): {myyntihinta_cont:.2f} €\")\n\n# --------------------------\n# Valinnainen: integer-optimi (brute force pienessä ongelmassa)\n# Koska alkuperäinen malli oli kokonaislukuinen, etsitään paras kokonaisratkaisu\n# käymällä läpi kaikki järkevät kombinaatiot (pieni hakutila).\n# --------------------------\nparas_voitto = -np.inf\nparas_t = None\nparas_p = None\n\n# Ylärajat tiukennetaan rajoitteista: 2t+2p <= 8 -> t+p <= 4, ja t+2p <= 6\n# Turvallisesti voidaan iteroida 0..lego_pieni_määrä ja 0..lego_iso_määrä\nfor t in range(0, lego_pieni_määrä + 1):\n    for p in range(0, lego_iso_määrä + 1):\n        if (2*t + 2*p) <= lego_pieni_määrä and (t + 2*p) <= lego_iso_määrä:\n            # Sama voittofunktio\n            voitto = (\n                tuoli_myyntihinta * t\n                + pöytä_myyntihinta * p\n                - lego_pieni_hinta * (2 * t + 2 * p)\n                - lego_iso_hinta * (t + 2 * p)\n            )\n            if voitto > paras_voitto:\n                paras_voitto = voitto\n                paras_t = t\n                paras_p = p\n\nprint(\"\\nOptimiratkaisu (kokonaisluvut):\")\nprint(f\"Tuoleja: {paras_t}\")\nprint(f\"Pöytiä:  {paras_p}\")\nprint(f\"\\nMyyntivoitto (kokonaisluvut): {paras_voitto:.2f} €\")\n\nkäytetyt_pienet_int = 2 * paras_t + 2 * paras_p\nkäytetyt_isot_int = paras_t + 2 * paras_p\nlego_pieni_yli_int = lego_pieni_määrä - käytetyt_pienet_int\nlego_iso_yli_int = lego_iso_määrä - käytetyt_isot_int\n\nprint(f\"{lego_pieni_yli_int} kpl pieniä legoja jäi yli (kokonaisluvut).\")\nprint(f\"{lego_iso_yli_int} kpl isoja legoja jäi yli (kokonaisluvut).\")\n\nmyyntihinta_int = tuoli_myyntihinta * paras_t + pöytä_myyntihinta * paras_p\nprint(f\"\\nMyyntihinta (kokonaisluvut): {myyntihinta_int:.2f} €\")",
      "metadata": {
        "trusted": true
      },
      "outputs": [],
      "execution_count": null
    }
  ]
}